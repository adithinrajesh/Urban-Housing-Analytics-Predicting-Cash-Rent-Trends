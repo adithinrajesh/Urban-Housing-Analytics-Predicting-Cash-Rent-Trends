{
 "cells": [
  {
   "cell_type": "code",
   "execution_count": 1,
   "id": "a5bc8aa5-9966-4bbd-b6b1-09b68f2f7621",
   "metadata": {},
   "outputs": [],
   "source": [
    "#Import necessary modules\n",
    "import pandas as pd\n",
    "from sklearn.model_selection import train_test_split\n",
    "from sklearn.linear_model import LinearRegression\n",
    "from sklearn.metrics import mean_squared_error"
   ]
  },
  {
   "cell_type": "code",
   "execution_count": 2,
   "id": "7d2fb685-6620-477f-8b6b-df9bdb19aaff",
   "metadata": {},
   "outputs": [],
   "source": [
    "#Using the EDA files\n",
    "%store -r pub_assist1\n",
    "%store -r data\n",
    "%store -r edu_fil\n",
    "%store -r contract_housing1\n",
    "%store -r income_data"
   ]
  },
  {
   "cell_type": "code",
   "execution_count": 3,
   "id": "9f88e322-e695-4721-9026-fea3101ffd0c",
   "metadata": {},
   "outputs": [
    {
     "name": "stdout",
     "output_type": "stream",
     "text": [
      "Merged DataFrame:\n",
      "           Neighborhood  Id  Estimate public assist; Total:  \\\n",
      "0      Allegheny Center   1                             870   \n",
      "1        Allegheny West   2                             146   \n",
      "2             Allentown   3                            1069   \n",
      "3             Arlington   4                             701   \n",
      "4     Arlington Heights   5                             144   \n",
      "..                  ...  ..                             ...   \n",
      "86  Upper Lawrenceville  87                            1287   \n",
      "87             West End  88                              99   \n",
      "88         West Oakland  89                             630   \n",
      "89             Westwood  90                            1492   \n",
      "90              Windgap  91                             647   \n",
      "\n",
      "    Margin of Error public assist; Total:  \\\n",
      "0                               93.000000   \n",
      "1                               36.000000   \n",
      "2                              132.457540   \n",
      "3                              104.465305   \n",
      "4                               59.000000   \n",
      "..                                    ...   \n",
      "86                             137.091210   \n",
      "87                              47.000000   \n",
      "88                              79.611557   \n",
      "89                             112.538882   \n",
      "90                             100.124922   \n",
      "\n",
      "    With public assistance income percentage  \\\n",
      "0                                   2.298851   \n",
      "1                                   6.164384   \n",
      "2                                  13.189897   \n",
      "3                                   3.708987   \n",
      "4                                   5.555556   \n",
      "..                                       ...   \n",
      "86                                  4.118104   \n",
      "87                                 10.101010   \n",
      "88                                 23.174603   \n",
      "89                                  2.412869   \n",
      "90                                  6.955178   \n",
      "\n",
      "    No public assistance income percentage  Estimate; Total:_x  \\\n",
      "0                                97.701149                  72   \n",
      "1                                93.835616                  69   \n",
      "2                                86.810103                 538   \n",
      "3                                96.291013                 492   \n",
      "4                                94.444444                   0   \n",
      "..                                     ...                 ...   \n",
      "86                               95.881896                 594   \n",
      "87                               89.898990                  35   \n",
      "88                               76.825397                 204   \n",
      "89                               97.587131                 973   \n",
      "90                               93.044822                 537   \n",
      "\n",
      "    Margin of Error; Total:_x  Low range  Mid range  ...  \\\n",
      "0                   28.000000          0         31  ...   \n",
      "1                   31.000000          4         14  ...   \n",
      "2                  112.769677        458         74  ...   \n",
      "3                   84.433406        400         80  ...   \n",
      "4                   10.000000          0          0  ...   \n",
      "..                        ...        ...        ...  ...   \n",
      "86                 115.952577        246        288  ...   \n",
      "87                  23.000000         19         13  ...   \n",
      "88                  51.855569        104         80  ...   \n",
      "89                 102.552426        128        698  ...   \n",
      "90                  87.458562        185        352  ...   \n",
      "\n",
      "    Margin of Error; Total:_y  Estimate; With cash rent:  \\\n",
      "0                   91.000000                        781   \n",
      "1                   31.000000                         77   \n",
      "2                  138.166566                        481   \n",
      "3                   70.562029                        204   \n",
      "4                   59.000000                        140   \n",
      "..                        ...                        ...   \n",
      "86                 132.382023                        680   \n",
      "87                  45.000000                         64   \n",
      "88                  73.409809                        410   \n",
      "89                 118.562220                        502   \n",
      "90                  69.339743                        110   \n",
      "\n",
      "    Estimate; No cash rent  Low rent  Mid rent  High rent  Total rent  \\\n",
      "0                       17       133       355        293         781   \n",
      "1                        0         3        48         26          77   \n",
      "2                       50       217       235         29         481   \n",
      "3                        5        14       172         18         204   \n",
      "4                        4        98        42          0         140   \n",
      "..                     ...       ...       ...        ...         ...   \n",
      "86                      13       139       399        142         680   \n",
      "87                       0        31        33          0          64   \n",
      "88                      16       128       199         83         410   \n",
      "89                      17        17       480          5         502   \n",
      "90                       0         7       103          0         110   \n",
      "\n",
      "    No cash rent  \\\n",
      "0             17   \n",
      "1              0   \n",
      "2             50   \n",
      "3              5   \n",
      "4              4   \n",
      "..           ...   \n",
      "86            13   \n",
      "87             0   \n",
      "88            16   \n",
      "89            17   \n",
      "90             0   \n",
      "\n",
      "    Estimate; Aggregate household income in the past 12 months (in 2015 Inflation-adjusted dollars)  \\\n",
      "0                                            39947000                                                 \n",
      "1                                            23793300                                                 \n",
      "2                                            38303700                                                 \n",
      "3                                            35349900                                                 \n",
      "4                                             2389600                                                 \n",
      "..                                                ...                                                 \n",
      "86                                           65738500                                                 \n",
      "87                                            3615800                                                 \n",
      "88                                           16339500                                                 \n",
      "89                                           91857100                                                 \n",
      "90                                           34609300                                                 \n",
      "\n",
      "    Margin of Error; Aggregate  \n",
      "0                      6437773  \n",
      "1                     22025939  \n",
      "2                  7490207.043  \n",
      "3                  6140662.723  \n",
      "4                      1162393  \n",
      "..                         ...  \n",
      "86                    16007126  \n",
      "87                     2204875  \n",
      "88                 3412753.172  \n",
      "89                 11304497.08  \n",
      "90                   6432817.1  \n",
      "\n",
      "[91 rows x 48 columns]\n"
     ]
    }
   ],
   "source": [
    "# Merging the DataFrames on common columns (Neighborhood and Id)\n",
    "merged_data = pub_assist1.merge(data, on=['Neighborhood', 'Id'], how='inner')\n",
    "merged_data = merged_data.merge(edu_fil, on=['Neighborhood', 'Id'], how='inner')\n",
    "merged_data = merged_data.merge(contract_housing1, on=['Neighborhood', 'Id'], how='inner')\n",
    "merged_data = merged_data.merge(income_data, on=['Neighborhood', 'Id'], how='inner')\n",
    "\n",
    "# Displaying the merged DataFrame\n",
    "print(\"Merged DataFrame:\")\n",
    "print(merged_data)\n"
   ]
  },
  {
   "cell_type": "code",
   "execution_count": 4,
   "id": "e7ebb55d-e0fd-4092-967a-7e3f12991691",
   "metadata": {},
   "outputs": [
    {
     "name": "stdout",
     "output_type": "stream",
     "text": [
      "Index(['Neighborhood', 'Id', 'Estimate public assist; Total:',\n",
      "       'Margin of Error public assist; Total:',\n",
      "       'With public assistance income percentage',\n",
      "       'No public assistance income percentage', 'Estimate; Total:_x',\n",
      "       'Margin of Error; Total:_x', 'Low range', 'Mid range', 'High range',\n",
      "       'Estimate education; Total:', 'Margin of Error education; Total:',\n",
      "       'No schooling completed percentage', 'Nursery school percentage',\n",
      "       'Kindergarden percentage', '1st grade percentage',\n",
      "       '2nd grade percentage', '3rd grade percentage', '4th grade percentage',\n",
      "       '5th grade percentage', '6th grade percentage', '7th grade percentage',\n",
      "       '8th grade percentage', '9th grade percentage', '10th grade percentage',\n",
      "       '11th grade percentage', '12th grade, no diploma percentage',\n",
      "       'Regular high school diploma percentage',\n",
      "       'GED or alternative credential percentage',\n",
      "       'Some college, less than 1 year percentage',\n",
      "       'Some college, 1 or more years, no degree percentage',\n",
      "       'Associate degree percentage', 'Bachelors degree percentage',\n",
      "       'Master's degree percentage', 'Professional school degree percentage',\n",
      "       'Doctorate degree percentage', 'Estimate; Total:_y',\n",
      "       'Margin of Error; Total:_y', 'Estimate; With cash rent:',\n",
      "       'Estimate; No cash rent', 'Low rent', 'Mid rent', 'High rent',\n",
      "       'Total rent', 'No cash rent',\n",
      "       'Estimate; Aggregate household income in the past 12 months (in 2015 Inflation-adjusted dollars)',\n",
      "       'Margin of Error; Aggregate'],\n",
      "      dtype='object')\n"
     ]
    }
   ],
   "source": [
    "# Displaying the column names of the merged DataFrame\n",
    "print(merged_data.columns)"
   ]
  },
  {
   "cell_type": "code",
   "execution_count": 5,
   "id": "bb4650b6-83a3-4c4e-9d7a-b246cdea59bd",
   "metadata": {},
   "outputs": [
    {
     "name": "stdout",
     "output_type": "stream",
     "text": [
      "Neighborhood                                                                                        object\n",
      "Id                                                                                                   int64\n",
      "Estimate public assist; Total:                                                                       int64\n",
      "Margin of Error public assist; Total:                                                              float64\n",
      "With public assistance income percentage                                                           float64\n",
      "No public assistance income percentage                                                             float64\n",
      "Estimate; Total:_x                                                                                   int64\n",
      "Margin of Error; Total:_x                                                                          float64\n",
      "Low range                                                                                            int64\n",
      "Mid range                                                                                            int64\n",
      "High range                                                                                           int64\n",
      "Estimate education; Total:                                                                           int64\n",
      "Margin of Error education; Total:                                                                  float64\n",
      "No schooling completed percentage                                                                  float64\n",
      "Nursery school percentage                                                                          float64\n",
      "Kindergarden percentage                                                                            float64\n",
      "1st grade percentage                                                                               float64\n",
      "2nd grade percentage                                                                               float64\n",
      "3rd grade percentage                                                                               float64\n",
      "4th grade percentage                                                                               float64\n",
      "5th grade percentage                                                                               float64\n",
      "6th grade percentage                                                                               float64\n",
      "7th grade percentage                                                                               float64\n",
      "8th grade percentage                                                                               float64\n",
      "9th grade percentage                                                                               float64\n",
      "10th grade percentage                                                                              float64\n",
      "11th grade percentage                                                                              float64\n",
      "12th grade, no diploma percentage                                                                  float64\n",
      "Regular high school diploma percentage                                                             float64\n",
      "GED or alternative credential percentage                                                           float64\n",
      "Some college, less than 1 year percentage                                                          float64\n",
      "Some college, 1 or more years, no degree percentage                                                float64\n",
      "Associate degree percentage                                                                        float64\n",
      "Bachelors degree percentage                                                                        float64\n",
      "Master's degree percentage                                                                         float64\n",
      "Professional school degree percentage                                                              float64\n",
      "Doctorate degree percentage                                                                        float64\n",
      "Estimate; Total:_y                                                                                   int64\n",
      "Margin of Error; Total:_y                                                                          float64\n",
      "Estimate; With cash rent:                                                                            int64\n",
      "Estimate; No cash rent                                                                               int64\n",
      "Low rent                                                                                             int64\n",
      "Mid rent                                                                                             int64\n",
      "High rent                                                                                            int64\n",
      "Total rent                                                                                           int64\n",
      "No cash rent                                                                                         int64\n",
      "Estimate; Aggregate household income in the past 12 months (in 2015 Inflation-adjusted dollars)     object\n",
      "Margin of Error; Aggregate                                                                          object\n",
      "dtype: object\n"
     ]
    }
   ],
   "source": [
    "#The data types of each column\n",
    "print(merged_data.dtypes)"
   ]
  },
  {
   "cell_type": "code",
   "execution_count": 6,
   "id": "d7321ea9-26e6-4626-9152-828a0c1a99d9",
   "metadata": {},
   "outputs": [],
   "source": [
    "# Converting the two columns to numeric, coercing errors to NaN\n",
    "merged_data['Estimate; Aggregate household income in the past 12 months (in 2015 Inflation-adjusted dollars)'] = pd.to_numeric(\n",
    "    merged_data['Estimate; Aggregate household income in the past 12 months (in 2015 Inflation-adjusted dollars)'], errors='coerce'\n",
    ")\n",
    "\n",
    "merged_data['Margin of Error; Aggregate'] = pd.to_numeric(\n",
    "    merged_data['Margin of Error; Aggregate'], errors='coerce'\n",
    ")\n"
   ]
  },
  {
   "cell_type": "code",
   "execution_count": 7,
   "id": "0c892542-b297-428a-b41c-7654171bdd90",
   "metadata": {},
   "outputs": [
    {
     "name": "stdout",
     "output_type": "stream",
     "text": [
      "Neighborhood                                                                                        object\n",
      "Id                                                                                                   int64\n",
      "Estimate public assist; Total:                                                                       int64\n",
      "Margin of Error public assist; Total:                                                              float64\n",
      "With public assistance income percentage                                                           float64\n",
      "No public assistance income percentage                                                             float64\n",
      "Estimate; Total:_x                                                                                   int64\n",
      "Margin of Error; Total:_x                                                                          float64\n",
      "Low range                                                                                            int64\n",
      "Mid range                                                                                            int64\n",
      "High range                                                                                           int64\n",
      "Estimate education; Total:                                                                           int64\n",
      "Margin of Error education; Total:                                                                  float64\n",
      "No schooling completed percentage                                                                  float64\n",
      "Nursery school percentage                                                                          float64\n",
      "Kindergarden percentage                                                                            float64\n",
      "1st grade percentage                                                                               float64\n",
      "2nd grade percentage                                                                               float64\n",
      "3rd grade percentage                                                                               float64\n",
      "4th grade percentage                                                                               float64\n",
      "5th grade percentage                                                                               float64\n",
      "6th grade percentage                                                                               float64\n",
      "7th grade percentage                                                                               float64\n",
      "8th grade percentage                                                                               float64\n",
      "9th grade percentage                                                                               float64\n",
      "10th grade percentage                                                                              float64\n",
      "11th grade percentage                                                                              float64\n",
      "12th grade, no diploma percentage                                                                  float64\n",
      "Regular high school diploma percentage                                                             float64\n",
      "GED or alternative credential percentage                                                           float64\n",
      "Some college, less than 1 year percentage                                                          float64\n",
      "Some college, 1 or more years, no degree percentage                                                float64\n",
      "Associate degree percentage                                                                        float64\n",
      "Bachelors degree percentage                                                                        float64\n",
      "Master's degree percentage                                                                         float64\n",
      "Professional school degree percentage                                                              float64\n",
      "Doctorate degree percentage                                                                        float64\n",
      "Estimate; Total:_y                                                                                   int64\n",
      "Margin of Error; Total:_y                                                                          float64\n",
      "Estimate; With cash rent:                                                                            int64\n",
      "Estimate; No cash rent                                                                               int64\n",
      "Low rent                                                                                             int64\n",
      "Mid rent                                                                                             int64\n",
      "High rent                                                                                            int64\n",
      "Total rent                                                                                           int64\n",
      "No cash rent                                                                                         int64\n",
      "Estimate; Aggregate household income in the past 12 months (in 2015 Inflation-adjusted dollars)    float64\n",
      "Margin of Error; Aggregate                                                                         float64\n",
      "dtype: object\n"
     ]
    }
   ],
   "source": [
    "print(merged_data.dtypes)"
   ]
  },
  {
   "cell_type": "code",
   "execution_count": 8,
   "id": "76b1d0a3-0bca-4345-85bc-2d6ab4ee3570",
   "metadata": {},
   "outputs": [],
   "source": [
    "# Defining the features (excluding non-feature columns and the target variable)\n",
    "X = merged_data.drop(['Neighborhood', 'Id', 'Estimate; With cash rent:'], axis=1)\n",
    "\n",
    "# Defining the target variable\n",
    "y = merged_data['Estimate; With cash rent:']"
   ]
  },
  {
   "cell_type": "code",
   "execution_count": 9,
   "id": "818f3a2e-db31-4008-8d3b-75daeaeb70bc",
   "metadata": {},
   "outputs": [],
   "source": [
    "# Identifying and replacing the NaN values in the target variable\n",
    "y = y.fillna(y.mean())\n",
    "X = X.apply(lambda col: col.fillna(col.mean()), axis=0)"
   ]
  },
  {
   "cell_type": "code",
   "execution_count": 10,
   "id": "0458e6ef-80d5-49b1-97ed-02472215b0aa",
   "metadata": {},
   "outputs": [
    {
     "name": "stdout",
     "output_type": "stream",
     "text": [
      "Mean Squared Error: 6.13895387817845e-18\n"
     ]
    }
   ],
   "source": [
    "# Splitting the data into training and testing sets\n",
    "from sklearn.model_selection import train_test_split\n",
    "X_train, X_test, y_train, y_test = train_test_split(X, y, test_size=0.2, random_state=42)\n",
    "\n",
    "from sklearn.linear_model import LinearRegression\n",
    "model = LinearRegression()\n",
    "model.fit(X_train, y_train)\n",
    "\n",
    "# Make predictions on the test set\n",
    "y_pred = model.predict(X_test)\n",
    "\n",
    "# Evaluate the model using mean squared error\n",
    "from sklearn.metrics import mean_squared_error\n",
    "\n",
    "mse = mean_squared_error(y_test, y_pred)\n",
    "print(f\"Mean Squared Error: {mse}\")"
   ]
  },
  {
   "cell_type": "code",
   "execution_count": 11,
   "id": "24bb409c-19e4-40cc-8bcb-8b4243bc4caf",
   "metadata": {},
   "outputs": [
    {
     "name": "stdout",
     "output_type": "stream",
     "text": [
      "R-squared: 1.0\n"
     ]
    }
   ],
   "source": [
    "# Calculate R-squared\n",
    "from sklearn.metrics import r2_score\n",
    "\n",
    "r2 = r2_score(y_test, y_pred)\n",
    "print(f\"R-squared: {r2}\")"
   ]
  },
  {
   "cell_type": "code",
   "execution_count": 12,
   "id": "7515caaa-d350-4b3e-a0f9-2cb7e678dfe9",
   "metadata": {},
   "outputs": [
    {
     "name": "stdout",
     "output_type": "stream",
     "text": [
      "Coefficients:\n",
      "Estimate public assist; Total:                                                                     1.445783e-01\n",
      "Margin of Error public assist; Total:                                                             -5.148862e-11\n",
      "With public assistance income percentage                                                          -1.987950e-11\n",
      "No public assistance income percentage                                                             1.985350e-11\n",
      "Estimate; Total:_x                                                                                -1.084337e-01\n",
      "Margin of Error; Total:_x                                                                          1.026612e-11\n",
      "Low range                                                                                         -3.614458e-02\n",
      "Mid range                                                                                         -3.614458e-02\n",
      "High range                                                                                        -3.614458e-02\n",
      "Estimate education; Total:                                                                        -1.715168e-12\n",
      "Margin of Error education; Total:                                                                  6.019308e-12\n",
      "No schooling completed percentage                                                                  1.398355e-10\n",
      "Nursery school percentage                                                                         -2.510696e-12\n",
      "Kindergarden percentage                                                                            2.582559e-12\n",
      "1st grade percentage                                                                               1.784599e-11\n",
      "2nd grade percentage                                                                               1.667954e-11\n",
      "3rd grade percentage                                                                              -3.903670e-11\n",
      "4th grade percentage                                                                              -3.546621e-11\n",
      "5th grade percentage                                                                              -2.126915e-11\n",
      "6th grade percentage                                                                              -1.653145e-10\n",
      "7th grade percentage                                                                               1.363710e-10\n",
      "8th grade percentage                                                                              -2.699408e-10\n",
      "9th grade percentage                                                                               1.974870e-11\n",
      "10th grade percentage                                                                              7.913731e-11\n",
      "11th grade percentage                                                                              1.405245e-10\n",
      "12th grade, no diploma percentage                                                                 -7.128815e-11\n",
      "Regular high school diploma percentage                                                            -6.578014e-11\n",
      "GED or alternative credential percentage                                                           1.198600e-10\n",
      "Some college, less than 1 year percentage                                                          1.515441e-10\n",
      "Some college, 1 or more years, no degree percentage                                               -8.152865e-11\n",
      "Associate degree percentage                                                                        2.535844e-11\n",
      "Bachelors degree percentage                                                                       -6.572778e-11\n",
      "Master's degree percentage                                                                        -1.092885e-10\n",
      "Professional school degree percentage                                                              1.931395e-10\n",
      "Doctorate degree percentage                                                                       -1.177539e-10\n",
      "Estimate; Total:_y                                                                                 2.530120e-01\n",
      "Margin of Error; Total:_y                                                                          3.882184e-11\n",
      "Estimate; No cash rent                                                                            -1.987952e-01\n",
      "Low rent                                                                                           1.506024e-01\n",
      "Mid rent                                                                                           1.506024e-01\n",
      "High rent                                                                                          1.506024e-01\n",
      "Total rent                                                                                         4.518072e-01\n",
      "No cash rent                                                                                      -1.987952e-01\n",
      "Estimate; Aggregate household income in the past 12 months (in 2015 Inflation-adjusted dollars)    6.042733e-18\n",
      "Margin of Error; Aggregate                                                                         5.247051e-18\n",
      "dtype: float64\n"
     ]
    },
    {
     "data": {
      "image/png": "[encoded data removed]",
      "text/plain": [
       "<Figure size 640x480 with 1 Axes>"
      ]
     },
     "metadata": {},
     "output_type": "display_data"
    }
   ],
   "source": [
    "# Accessing coefficients\n",
    "coefficients = pd.Series(model.coef_, index=X.columns)\n",
    "print(\"Coefficients:\")\n",
    "print(coefficients)\n",
    "\n",
    "# Visualizing actual vs. predicted values\n",
    "import matplotlib.pyplot as plt\n",
    "\n",
    "plt.scatter(y_test, y_pred)\n",
    "plt.xlabel(\"Actual Values\")\n",
    "plt.ylabel(\"Predicted Values\")\n",
    "plt.title(\"Actual vs. Predicted Values\")\n",
    "plt.show()\n"
   ]
  },
  {
   "cell_type": "code",
   "execution_count": 13,
   "id": "57a4abf2-9d3d-4896-95b5-d50cbe666a72",
   "metadata": {},
   "outputs": [
    {
     "data": {
      "image/png": "[encoded data removed]",
      "text/plain": [
       "<Figure size 640x480 with 1 Axes>"
      ]
     },
     "metadata": {},
     "output_type": "display_data"
    }
   ],
   "source": [
    "# Creating residual plot\n",
    "residuals = y_test - y_pred\n",
    "plt.scatter(y_pred, residuals)\n",
    "plt.axhline(y=0, color='r', linestyle='--')\n",
    "plt.xlabel(\"Predicted Values\")\n",
    "plt.ylabel(\"Residuals\")\n",
    "plt.title(\"Residual Plot\")\n",
    "plt.show()"
   ]
  }
 ],
 "metadata": {
  "kernelspec": {
   "display_name": "Python 3 (ipykernel)",
   "language": "python",
   "name": "python3"
  },
  "language_info": {
   "codemirror_mode": {
    "name": "ipython",
    "version": 3
   },
   "file_extension": ".py",
   "mimetype": "text/x-python",
   "name": "python",
   "nbconvert_exporter": "python",
   "pygments_lexer": "ipython3",
   "version": "3.11.5"
  }
 },
 "nbformat": 4,
 "nbformat_minor": 5
}
